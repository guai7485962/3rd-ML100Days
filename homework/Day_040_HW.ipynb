{
 "cells": [
  {
   "cell_type": "markdown",
   "metadata": {},
   "source": [
    "## [作業重點]\n",
    "使用 Sklearn 中的 Lasso, Ridge 模型，來訓練各種資料集，務必了解送進去模型訓練的**資料型態**為何，也請了解模型中各項參數的意義。\n",
    "\n",
    "機器學習的模型非常多種，但要訓練的資料多半有固定的格式，確保你了解訓練資料的格式為何，這樣在應用新模型時，就能夠最快的上手開始訓練！"
   ]
  },
  {
   "cell_type": "markdown",
   "metadata": {},
   "source": [
    "## 練習時間\n",
    "試著使用 sklearn datasets 的其他資料集 (boston, ...)，來訓練自己的線性迴歸模型，並加上適當的正則化來觀察訓練情形。"
   ]
  },
  {
   "cell_type": "code",
   "execution_count": 1,
   "metadata": {},
   "outputs": [],
   "source": [
    "import numpy as np\n",
    "import matplotlib.pyplot as plt\n",
    "from sklearn import datasets, linear_model\n",
    "from sklearn.model_selection import train_test_split\n",
    "from sklearn.metrics import mean_squared_error, accuracy_score\n",
    "\n",
    "# 設定alpha值\n",
    "alpha_list = [0.25, 0.5, 0.75, 1]"
   ]
  },
  {
   "cell_type": "code",
   "execution_count": 2,
   "metadata": {},
   "outputs": [
    {
     "name": "stdout",
     "output_type": "stream",
     "text": [
      "Parameters of LinearRegression:  [-1.15966452e-01  4.71249231e-02  8.25980146e-03  3.23404531e+00\n",
      " -1.66865890e+01  3.88410651e+00 -1.08974442e-02 -1.54129540e+00\n",
      "  2.93208309e-01 -1.34059383e-02 -9.06296429e-01  8.80823439e-03\n",
      " -4.57723846e-01]\n",
      "Mean squared error of LinearRegression: 25.42\n"
     ]
    }
   ],
   "source": [
    "# =============================================================================\n",
    "# data : boston \n",
    "# =============================================================================\n",
    "# 讀取資料\n",
    "boston = datasets.load_boston() #此資料為迴歸問題，故使線性迴歸\n",
    "\n",
    "# 資料切分\n",
    "x_train, x_test, y_train, y_test = train_test_split(boston.data, boston.target, test_size=0.2, random_state=4)\n",
    "\n",
    "# 建立一邏輯斯迴歸模型\n",
    "regr = linear_model.LinearRegression()\n",
    "\n",
    "# 將訓練模型投入模型訓練\n",
    "regr.fit(x_train, y_train)\n",
    "\n",
    "# 預測驗證資料集\n",
    "y_pred = regr.predict(x_test)\n",
    "\n",
    "# 觀察參數\n",
    "print('Parameters of LinearRegression: ', regr.coef_)\n",
    "\n",
    "# 觀察MSE\n",
    "print('Mean squared error of LinearRegression: %.2f' % mean_squared_error(y_test, y_pred))"
   ]
  },
  {
   "cell_type": "code",
   "execution_count": 3,
   "metadata": {},
   "outputs": [
    {
     "name": "stdout",
     "output_type": "stream",
     "text": [
      "Lasso(alpha=0.25):\n",
      "Parameters of Lasso:  [-0.10104019  0.04880253 -0.02613895  0.         -0.          3.4145279\n",
      " -0.01364913 -1.14216044  0.26486613 -0.01577282 -0.75187568  0.0094572\n",
      " -0.53589797]\n",
      "Mean squared error of Lasso: 26.62\n",
      "------------------------------\n",
      "Lasso(alpha=0.50):\n",
      "Parameters of Lasso:  [-0.08860117  0.04829133 -0.01107435  0.         -0.          2.66101769\n",
      " -0.00307949 -0.98440282  0.25664031 -0.01593271 -0.73252329  0.00884426\n",
      " -0.59210164]\n",
      "Mean squared error of Lasso: 26.94\n",
      "------------------------------\n",
      "Lasso(alpha=0.75):\n",
      "Parameters of Lasso:  [-0.07676773  0.04701493 -0.          0.         -0.          1.9352261\n",
      "  0.00205618 -0.8683967   0.24633848 -0.01586606 -0.71302737  0.00827\n",
      " -0.64015726]\n",
      "Mean squared error of Lasso: 27.78\n",
      "------------------------------\n",
      "Lasso(alpha=1.00):\n",
      "Parameters of Lasso:  [-0.06494981  0.04581458 -0.          0.         -0.          1.18140024\n",
      "  0.01109101 -0.73695809  0.23350042 -0.01551065 -0.69270805  0.00763157\n",
      " -0.6927848 ]\n",
      "Mean squared error of Lasso: 28.95\n",
      "------------------------------\n"
     ]
    }
   ],
   "source": [
    "# =============================================================================\n",
    "# LASSO \n",
    "# =============================================================================\n",
    "for alpha_value in alpha_list:\n",
    "    lasso = linear_model.Lasso(alpha=alpha_value)\n",
    "    lasso.fit(x_train, y_train)\n",
    "    y_pred = lasso.predict(x_test)\n",
    "    \n",
    "    print('Lasso(alpha=%.2f):' % alpha_value)\n",
    "    print('Parameters of Lasso: ', lasso.coef_)\n",
    "    print('Mean squared error of Lasso: %.2f' % mean_squared_error(y_test, y_pred))\n",
    "    print(\"-\"*30)\n"
   ]
  },
  {
   "cell_type": "code",
   "execution_count": 4,
   "metadata": {},
   "outputs": [
    {
     "name": "stdout",
     "output_type": "stream",
     "text": [
      "Ridge(alpha=0.25):\n",
      "Parameters of Ridge:  [-1.14651940e-01  4.74169041e-02 -3.86509860e-03  3.14636886e+00\n",
      " -1.39471613e+01  3.90538343e+00 -1.33609910e-02 -1.50112557e+00\n",
      "  2.86315374e-01 -1.35785155e-02 -8.77924960e-01  8.93838361e-03\n",
      " -4.60633067e-01]\n",
      "Mean squared error of Ridge: 25.51\n",
      "------------------------------\n",
      "Ridge(alpha=0.50):\n",
      "Parameters of Ridge:  [-1.13720313e-01  4.76370805e-02 -1.25294762e-02  3.07531514e+00\n",
      " -1.19789169e+01  3.91845004e+00 -1.51046851e-02 -1.47224633e+00\n",
      "  2.81475089e-01 -1.37075697e-02 -8.57737917e-01  9.03172343e-03\n",
      " -4.62924119e-01]\n",
      "Mean squared error of Ridge: 25.60\n",
      "------------------------------\n",
      "Ridge(alpha=0.75):\n",
      "Parameters of Ridge:  [-1.13029384e-01  4.78119108e-02 -1.90160032e-02  3.01496621e+00\n",
      " -1.04964311e+01  3.92634998e+00 -1.63952178e-02 -1.45047798e+00\n",
      "  2.77925486e-01 -1.38090969e-02 -8.42702118e-01  9.10184688e-03\n",
      " -4.64824144e-01]\n",
      "Mean squared error of Ridge: 25.68\n",
      "------------------------------\n",
      "Ridge(alpha=1.00):\n",
      "Parameters of Ridge:  [-1.12499445e-01  4.79562332e-02 -2.40438147e-02  2.96199458e+00\n",
      " -9.33966118e+00  3.93079015e+00 -1.73821202e-02 -1.43347691e+00\n",
      "  2.75239392e-01 -1.38920708e-02 -8.31116943e-01  9.15637729e-03\n",
      " -4.66460539e-01]\n",
      "Mean squared error of Ridge: 25.74\n",
      "------------------------------\n"
     ]
    }
   ],
   "source": [
    "# =============================================================================\n",
    "# Ridge\n",
    "# =============================================================================\n",
    "for alpha_value in alpha_list:\n",
    "    ridge = linear_model.Ridge(alpha=alpha_value)\n",
    "    ridge.fit(x_train, y_train)\n",
    "    y_pred = ridge.predict(x_test)\n",
    "    \n",
    "    print('Ridge(alpha=%.2f):' % alpha_value)\n",
    "    print('Parameters of Ridge: ', ridge.coef_)\n",
    "    print('Mean squared error of Ridge: %.2f' % mean_squared_error(y_test, y_pred))\n",
    "    print(\"-\"*30)"
   ]
  },
  {
   "cell_type": "code",
   "execution_count": 5,
   "metadata": {},
   "outputs": [
    {
     "name": "stdout",
     "output_type": "stream",
     "text": [
      "Parameters of LinearRegression:  [[-6.82864779e-01  7.19709566e-01  9.78123238e-01 -5.71326897e-01\n",
      "  -3.15688084e-02  3.00522775e-01  1.11716506e+00 -3.43549778e-02\n",
      "  -4.90150215e-01 -1.05374113e-02 -1.54185796e-01  9.61331414e-01\n",
      "   1.81479366e-02]\n",
      " [ 9.32405991e-01 -1.02836307e+00 -7.03687526e-01  2.35034368e-01\n",
      "   8.51406104e-03  7.62359762e-02  4.71638459e-01  5.60638803e-01\n",
      "   6.15085511e-01 -1.81947987e+00  9.33098198e-01  7.36442197e-02\n",
      "  -1.40242413e-02]\n",
      " [-4.72180741e-01  6.31034394e-01 -6.36847579e-02  1.56380289e-01\n",
      "   3.13408128e-02 -7.52374558e-01 -1.62587954e+00 -1.31786834e-01\n",
      "  -7.01391158e-01  1.03384290e+00 -4.87953685e-01 -1.15357424e+00\n",
      "   1.40302540e-04]]\n",
      "Accuracy:  0.9722222222222222\n"
     ]
    },
    {
     "name": "stderr",
     "output_type": "stream",
     "text": [
      "C:\\Users\\guai7\\Anaconda3\\lib\\site-packages\\sklearn\\linear_model\\logistic.py:432: FutureWarning: Default solver will be changed to 'lbfgs' in 0.22. Specify a solver to silence this warning.\n",
      "  FutureWarning)\n",
      "C:\\Users\\guai7\\Anaconda3\\lib\\site-packages\\sklearn\\linear_model\\logistic.py:469: FutureWarning: Default multi_class will be changed to 'auto' in 0.22. Specify the multi_class option to silence this warning.\n",
      "  \"this warning.\", FutureWarning)\n"
     ]
    }
   ],
   "source": [
    "# =============================================================================\n",
    "# data : wine\n",
    "# =============================================================================\n",
    "# 讀取資料\n",
    "wine = datasets.load_wine() #此資料為分類問題，故使用邏輯斯回歸\n",
    "\n",
    "# 資料切分\n",
    "x_train, x_test, y_train, y_test = train_test_split(wine.data, wine.target, test_size=0.2, random_state=4)\n",
    "\n",
    "# 建立線性迴歸模型\n",
    "logreg = linear_model.LogisticRegression()\n",
    "\n",
    "# 將訓練模型投入模型訓練\n",
    "logreg.fit(x_train, y_train)\n",
    "\n",
    "# 預測驗證資料集\n",
    "y_pred = logreg.predict(x_test)\n",
    "\n",
    "# 觀察參數\n",
    "print('Parameters of LinearRegression: ', logreg.coef_)\n",
    "\n",
    "# 預測值與實際值的差距，使用Accuracy\n",
    "acc = accuracy_score(y_test, y_pred)\n",
    "print('Accuracy: ', acc)"
   ]
  },
  {
   "cell_type": "code",
   "execution_count": 9,
   "metadata": {},
   "outputs": [
    {
     "name": "stdout",
     "output_type": "stream",
     "text": [
      "LogisticRegression(L1)(alpha=0.25):\n",
      "Parameters of Lasso:  [[ 0.          0.          0.         -0.46380957 -0.04938031  0.\n",
      "   0.6577548   0.          0.          0.          0.          0.\n",
      "   0.01548334]\n",
      " [ 0.53567011 -0.57230653  0.          0.15811602  0.02459615  0.\n",
      "   0.32969191  0.          0.         -1.30220391  0.          0.\n",
      "  -0.00942791]\n",
      " [ 0.          0.08349246  0.          0.01187655  0.          0.\n",
      "  -1.96317136  0.          0.          0.79753565  0.         -0.35175169\n",
      "  -0.00223921]]\n",
      "Accuracy:  0.9444444444444444\n",
      "------------------------------\n",
      "LogisticRegression(L1)(alpha=0.50):\n",
      "Parameters of Lasso:  [[-2.36600044e-01  2.91567552e-01  0.00000000e+00 -4.70806377e-01\n",
      "  -4.66345872e-02  0.00000000e+00  1.12173517e+00  0.00000000e+00\n",
      "   0.00000000e+00  0.00000000e+00  0.00000000e+00  1.33019285e-01\n",
      "   1.66809903e-02]\n",
      " [ 8.53446304e-01 -8.53946080e-01  0.00000000e+00  1.75667633e-01\n",
      "   1.91650684e-02  0.00000000e+00  5.56353300e-01  0.00000000e+00\n",
      "   4.77403748e-03 -1.74158564e+00  0.00000000e+00  0.00000000e+00\n",
      "  -1.20925633e-02]\n",
      " [-1.53640952e-02  1.58809437e-01  0.00000000e+00  4.94949387e-02\n",
      "   0.00000000e+00  0.00000000e+00 -2.37559799e+00  0.00000000e+00\n",
      "   0.00000000e+00  8.67743246e-01  0.00000000e+00 -9.31291309e-01\n",
      "  -1.23903670e-03]]\n",
      "Accuracy:  0.9722222222222222\n",
      "------------------------------\n",
      "LogisticRegression(L1)(alpha=0.75):\n",
      "Parameters of Lasso:  [[-4.12083198e-01  5.14544906e-01  0.00000000e+00 -4.87116122e-01\n",
      "  -4.44011902e-02  0.00000000e+00  1.21475842e+00  0.00000000e+00\n",
      "   0.00000000e+00  0.00000000e+00  0.00000000e+00  4.89995293e-01\n",
      "   1.75035177e-02]\n",
      " [ 1.03363025e+00 -1.04152636e+00  0.00000000e+00  1.94739878e-01\n",
      "   1.25212804e-02  0.00000000e+00  5.44013576e-01  0.00000000e+00\n",
      "   2.89145495e-01 -1.96352195e+00  0.00000000e+00  0.00000000e+00\n",
      "  -1.36191428e-02]\n",
      " [-8.06297820e-02  2.08932603e-01  0.00000000e+00  8.40547681e-02\n",
      "   2.92578824e-03  0.00000000e+00 -2.66700643e+00  0.00000000e+00\n",
      "   0.00000000e+00  9.27098557e-01  0.00000000e+00 -1.26348457e+00\n",
      "  -5.39474343e-04]]\n",
      "Accuracy:  0.9722222222222222\n",
      "------------------------------\n",
      "LogisticRegression(L1)(alpha=1.00):\n",
      "Parameters of Lasso:  [[-5.63389342e-01  6.27411279e-01  8.56407335e-01 -5.53224665e-01\n",
      "  -4.32780903e-02  0.00000000e+00  1.21294856e+00  0.00000000e+00\n",
      "   0.00000000e+00  0.00000000e+00  0.00000000e+00  7.03619818e-01\n",
      "   1.77939861e-02]\n",
      " [ 1.07715480e+00 -1.11399662e+00  0.00000000e+00  2.08396007e-01\n",
      "   7.72920276e-03  0.00000000e+00  4.63740200e-01  0.00000000e+00\n",
      "   5.19697448e-01 -2.04367353e+00  7.11140387e-01  0.00000000e+00\n",
      "  -1.46802407e-02]\n",
      " [-1.26171021e-01  2.60459195e-01  0.00000000e+00  1.02394701e-01\n",
      "   6.68933968e-03  0.00000000e+00 -2.89641644e+00  0.00000000e+00\n",
      "   0.00000000e+00  9.71782491e-01  0.00000000e+00 -1.54093392e+00\n",
      "  -7.96096158e-05]]\n",
      "Accuracy:  0.9722222222222222\n",
      "------------------------------\n"
     ]
    },
    {
     "name": "stderr",
     "output_type": "stream",
     "text": [
      "C:\\Users\\guai7\\Anaconda3\\lib\\site-packages\\sklearn\\linear_model\\logistic.py:432: FutureWarning: Default solver will be changed to 'lbfgs' in 0.22. Specify a solver to silence this warning.\n",
      "  FutureWarning)\n",
      "C:\\Users\\guai7\\Anaconda3\\lib\\site-packages\\sklearn\\linear_model\\logistic.py:469: FutureWarning: Default multi_class will be changed to 'auto' in 0.22. Specify the multi_class option to silence this warning.\n",
      "  \"this warning.\", FutureWarning)\n",
      "C:\\Users\\guai7\\Anaconda3\\lib\\site-packages\\sklearn\\linear_model\\logistic.py:432: FutureWarning: Default solver will be changed to 'lbfgs' in 0.22. Specify a solver to silence this warning.\n",
      "  FutureWarning)\n",
      "C:\\Users\\guai7\\Anaconda3\\lib\\site-packages\\sklearn\\linear_model\\logistic.py:469: FutureWarning: Default multi_class will be changed to 'auto' in 0.22. Specify the multi_class option to silence this warning.\n",
      "  \"this warning.\", FutureWarning)\n",
      "C:\\Users\\guai7\\Anaconda3\\lib\\site-packages\\sklearn\\linear_model\\logistic.py:432: FutureWarning: Default solver will be changed to 'lbfgs' in 0.22. Specify a solver to silence this warning.\n",
      "  FutureWarning)\n",
      "C:\\Users\\guai7\\Anaconda3\\lib\\site-packages\\sklearn\\linear_model\\logistic.py:469: FutureWarning: Default multi_class will be changed to 'auto' in 0.22. Specify the multi_class option to silence this warning.\n",
      "  \"this warning.\", FutureWarning)\n",
      "C:\\Users\\guai7\\Anaconda3\\lib\\site-packages\\sklearn\\linear_model\\logistic.py:432: FutureWarning: Default solver will be changed to 'lbfgs' in 0.22. Specify a solver to silence this warning.\n",
      "  FutureWarning)\n",
      "C:\\Users\\guai7\\Anaconda3\\lib\\site-packages\\sklearn\\linear_model\\logistic.py:469: FutureWarning: Default multi_class will be changed to 'auto' in 0.22. Specify the multi_class option to silence this warning.\n",
      "  \"this warning.\", FutureWarning)\n"
     ]
    }
   ],
   "source": [
    "# =============================================================================\n",
    "# LogisticRegression(L1)\n",
    "# =============================================================================\n",
    "for alpha_value in alpha_list:\n",
    "    logreg = linear_model.LogisticRegression(penalty='l1',C=alpha_value)\n",
    "    logreg.fit(x_train, y_train)\n",
    "    y_pred = logreg.predict(x_test)\n",
    "    \n",
    "    print('LogisticRegression(L1)(alpha=%.2f):' % alpha_value)\n",
    "    print('Parameters of Lasso: ', logreg.coef_)\n",
    "    acc = accuracy_score(y_test, y_pred)\n",
    "    print('Accuracy: ', acc)\n",
    "    print(\"-\"*30)"
   ]
  },
  {
   "cell_type": "code",
   "execution_count": 10,
   "metadata": {},
   "outputs": [
    {
     "name": "stdout",
     "output_type": "stream",
     "text": [
      "LogisticRegression(L2)(alpha=0.25):\n",
      "Parameters of Ridge:  [[-0.33662807  0.3612442   0.31358185 -0.48990432 -0.04392272  0.26399046\n",
      "   0.64652145 -0.04462011 -0.03123821 -0.04008826 -0.04974098  0.50943412\n",
      "   0.01698277]\n",
      " [ 0.52463624 -0.69686805 -0.24757697  0.17894567  0.01714422  0.15194874\n",
      "   0.29514996  0.16088707  0.29967388 -1.21858598  0.37515763  0.25163519\n",
      "  -0.01078697]\n",
      " [-0.29411123  0.46529182 -0.0343909   0.10938236  0.01455958 -0.50012567\n",
      "  -1.01472716 -0.0237717  -0.40527816  0.82218175 -0.25667654 -0.75951823\n",
      "  -0.00135498]]\n",
      "Accuracy:  0.9722222222222222\n",
      "------------------------------\n",
      "LogisticRegression(L2)(alpha=0.50):\n",
      "Parameters of Ridge:  [[-4.92361444e-01  5.32574611e-01  5.72083024e-01 -5.26213503e-01\n",
      "  -3.93875874e-02  3.02786091e-01  8.64059553e-01 -4.46498662e-02\n",
      "  -1.99163468e-01 -2.73304769e-02 -9.30081211e-02  7.12834501e-01\n",
      "   1.75579152e-02]\n",
      " [ 7.19862561e-01 -8.64354574e-01 -4.21498219e-01  2.02823453e-01\n",
      "   1.34333484e-02  1.34446512e-01  3.62524420e-01  3.06087431e-01\n",
      "   4.24028388e-01 -1.51597908e+00  5.88667770e-01  2.01364607e-01\n",
      "  -1.23252311e-02]\n",
      " [-3.69522677e-01  5.26123881e-01 -5.18441378e-02  1.34233183e-01\n",
      "   2.16992964e-02 -6.01420964e-01 -1.29749115e+00 -8.80977006e-02\n",
      "  -5.39989651e-01  9.14963131e-01 -3.77414836e-01 -9.30425379e-01\n",
      "  -6.94393165e-04]]\n",
      "Accuracy:  0.9722222222222222\n",
      "------------------------------\n",
      "LogisticRegression(L2)(alpha=0.75):\n",
      "Parameters of Ridge:  [[-6.01725289e-01  6.36605317e-01  7.92109108e-01 -5.49863465e-01\n",
      "  -3.51223625e-02  3.05141957e-01  1.00843536e+00 -3.97928081e-02\n",
      "  -3.53352130e-01 -1.47462388e-02 -1.28343226e-01  8.51159825e-01\n",
      "   1.78843585e-02]\n",
      " [ 8.35987060e-01 -9.60819002e-01 -4.87173294e-01  2.12016105e-01\n",
      "   1.21440302e-02  1.18196511e-01  3.59333453e-01  3.45033258e-01\n",
      "   4.70789267e-01 -1.67817218e+00  6.56486234e-01  1.74691212e-01\n",
      "  -1.31296119e-02]\n",
      " [-4.25059526e-01  5.81959713e-01 -5.94301817e-02  1.47631391e-01\n",
      "   2.69961393e-02 -6.85263686e-01 -1.48676226e+00 -1.16839228e-01\n",
      "  -6.34101747e-01  9.80196824e-01 -4.44092078e-01 -1.05561027e+00\n",
      "  -2.18387045e-04]]\n",
      "Accuracy:  0.9722222222222222\n",
      "------------------------------\n",
      "LogisticRegression(L2)(alpha=1.00):\n",
      "Parameters of Ridge:  [[-6.82864779e-01  7.19709566e-01  9.78123238e-01 -5.71326897e-01\n",
      "  -3.15688084e-02  3.00522775e-01  1.11716506e+00 -3.43549778e-02\n",
      "  -4.90150215e-01 -1.05374113e-02 -1.54185796e-01  9.61331414e-01\n",
      "   1.81479366e-02]\n",
      " [ 9.32405991e-01 -1.02836307e+00 -7.03687526e-01  2.35034368e-01\n",
      "   8.51406104e-03  7.62359762e-02  4.71638459e-01  5.60638803e-01\n",
      "   6.15085511e-01 -1.81947987e+00  9.33098198e-01  7.36442197e-02\n",
      "  -1.40242413e-02]\n",
      " [-4.72180741e-01  6.31034394e-01 -6.36847579e-02  1.56380289e-01\n",
      "   3.13408128e-02 -7.52374558e-01 -1.62587954e+00 -1.31786834e-01\n",
      "  -7.01391158e-01  1.03384290e+00 -4.87953685e-01 -1.15357424e+00\n",
      "   1.40302540e-04]]\n",
      "Accuracy:  0.9722222222222222\n",
      "------------------------------\n"
     ]
    },
    {
     "name": "stderr",
     "output_type": "stream",
     "text": [
      "C:\\Users\\guai7\\Anaconda3\\lib\\site-packages\\sklearn\\linear_model\\logistic.py:432: FutureWarning: Default solver will be changed to 'lbfgs' in 0.22. Specify a solver to silence this warning.\n",
      "  FutureWarning)\n",
      "C:\\Users\\guai7\\Anaconda3\\lib\\site-packages\\sklearn\\linear_model\\logistic.py:469: FutureWarning: Default multi_class will be changed to 'auto' in 0.22. Specify the multi_class option to silence this warning.\n",
      "  \"this warning.\", FutureWarning)\n",
      "C:\\Users\\guai7\\Anaconda3\\lib\\site-packages\\sklearn\\linear_model\\logistic.py:432: FutureWarning: Default solver will be changed to 'lbfgs' in 0.22. Specify a solver to silence this warning.\n",
      "  FutureWarning)\n",
      "C:\\Users\\guai7\\Anaconda3\\lib\\site-packages\\sklearn\\linear_model\\logistic.py:469: FutureWarning: Default multi_class will be changed to 'auto' in 0.22. Specify the multi_class option to silence this warning.\n",
      "  \"this warning.\", FutureWarning)\n",
      "C:\\Users\\guai7\\Anaconda3\\lib\\site-packages\\sklearn\\linear_model\\logistic.py:432: FutureWarning: Default solver will be changed to 'lbfgs' in 0.22. Specify a solver to silence this warning.\n",
      "  FutureWarning)\n",
      "C:\\Users\\guai7\\Anaconda3\\lib\\site-packages\\sklearn\\linear_model\\logistic.py:469: FutureWarning: Default multi_class will be changed to 'auto' in 0.22. Specify the multi_class option to silence this warning.\n",
      "  \"this warning.\", FutureWarning)\n",
      "C:\\Users\\guai7\\Anaconda3\\lib\\site-packages\\sklearn\\linear_model\\logistic.py:432: FutureWarning: Default solver will be changed to 'lbfgs' in 0.22. Specify a solver to silence this warning.\n",
      "  FutureWarning)\n",
      "C:\\Users\\guai7\\Anaconda3\\lib\\site-packages\\sklearn\\linear_model\\logistic.py:469: FutureWarning: Default multi_class will be changed to 'auto' in 0.22. Specify the multi_class option to silence this warning.\n",
      "  \"this warning.\", FutureWarning)\n"
     ]
    }
   ],
   "source": [
    "# =============================================================================\n",
    "# LogisticRegression(L2)\n",
    "# =============================================================================\n",
    "for alpha_value in alpha_list:\n",
    "    logreg = linear_model.LogisticRegression(penalty='l2',C=alpha_value)\n",
    "    logreg.fit(x_train, y_train)\n",
    "    y_pred = logreg.predict(x_test)\n",
    "    \n",
    "    print('LogisticRegression(L2)(alpha=%.2f):' % alpha_value)\n",
    "    print('Parameters of Ridge: ', logreg.coef_)\n",
    "    acc = accuracy_score(y_test, y_pred)\n",
    "    print('Accuracy: ', acc)\n",
    "    print(\"-\"*30)"
   ]
  }
 ],
 "metadata": {
  "kernelspec": {
   "display_name": "Python 3",
   "language": "python",
   "name": "python3"
  },
  "language_info": {
   "codemirror_mode": {
    "name": "ipython",
    "version": 3
   },
   "file_extension": ".py",
   "mimetype": "text/x-python",
   "name": "python",
   "nbconvert_exporter": "python",
   "pygments_lexer": "ipython3",
   "version": "3.7.3"
  }
 },
 "nbformat": 4,
 "nbformat_minor": 2
}
