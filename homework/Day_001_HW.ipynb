{
 "cells": [
  {
   "cell_type": "code",
   "execution_count": 2,
   "metadata": {
    "collapsed": true
   },
   "outputs": [],
   "source": [
    "import numpy as np\n",
    "import matplotlib.pyplot as plt"
   ]
  },
  {
   "cell_type": "code",
   "execution_count": 3,
   "metadata": {
    "collapsed": true
   },
   "outputs": [],
   "source": [
    "#定義MAE函式\n",
    "def mean_absolute_error(y,yp):\n",
    "    \"\"\"\n",
    "    計算 MAE\n",
    "    Args:\n",
    "        - y:實際值\n",
    "        - yp:預測值\n",
    "    Return:\n",
    "        -mae: MAE\n",
    "    \"\"\"\n",
    "    mae = MAE = sum(abs(y - yp)) / len(y)\n",
    "    return mae"
   ]
  },
  {
   "cell_type": "code",
   "execution_count": 4,
   "metadata": {
    "collapsed": true
   },
   "outputs": [],
   "source": [
    "#定義MSE函式\n",
    "def mean_square_error(y,yp):\n",
    "    \"\"\"\n",
    "    計算 MSE\n",
    "    Args:\n",
    "        - y:實際值\n",
    "        - yp:預測值\n",
    "    Return:\n",
    "        -mse: MSE\n",
    "    \"\"\"\n",
    "    mse = MSE = (sum((y-yp)**2)) / len(y)\n",
    "    return mse"
   ]
  },
  {
   "cell_type": "code",
   "execution_count": 5,
   "metadata": {},
   "outputs": [
    {
     "data": {
      "image/png": "[encoded data removed]",
      "text/plain": [
       "<Figure size 432x288 with 1 Axes>"
      ]
     },
     "metadata": {},
     "output_type": "display_data"
    }
   ],
   "source": [
    "#建立線性回歸模型\n",
    "w = 3\n",
    "b = 0.5\n",
    "\n",
    "x_lin = np.linspace(0, 100, 101)\n",
    "y = (x_lin + np.random.randn(101) * 5) * w + b\n",
    "\n",
    "y_hat = x_lin * w + b\n",
    "plt.plot(x_lin, y, 'b.', label = 'data')\n",
    "\n",
    "plt.plot(x_lin, y_hat, 'r-', label = 'prediction')\n",
    "plt.title(\"Assume we have data points (And the prediction)\")\n",
    "plt.legend(loc = 2)\n",
    "plt.show()"
   ]
  },
  {
   "cell_type": "code",
   "execution_count": 45,
   "metadata": {},
   "outputs": [
    {
     "name": "stdout",
     "output_type": "stream",
     "text": [
      "The Mean absolute error is 11.640\n",
      "The Mean square error is 200.883\n"
     ]
    }
   ],
   "source": [
    "#計算MAE和MSE\n",
    "MAE = mean_absolute_error(y, y_hat)\n",
    "print(\"The Mean absolute error is %.3f\" % (MAE))\n",
    "\n",
    "MSE = mean_square_error(y,y_hat)\n",
    "print(\"The Mean square error is %.3f\" % (MSE))"
   ]
  },
  {
   "cell_type": "code",
   "execution_count": 8,
   "metadata": {
    "scrolled": true
   },
   "outputs": [
    {
     "ename": "SyntaxError",
     "evalue": "invalid syntax (<ipython-input-8-bfd40f21f4dc>, line 2)",
     "output_type": "error",
     "traceback": [
      "\u001b[1;36m  File \u001b[1;32m\"<ipython-input-8-bfd40f21f4dc>\"\u001b[1;36m, line \u001b[1;32m2\u001b[0m\n\u001b[1;33m    Q1.你選的這組資料為何重要:\u001b[0m\n\u001b[1;37m                   ^\u001b[0m\n\u001b[1;31mSyntaxError\u001b[0m\u001b[1;31m:\u001b[0m invalid syntax\n"
     ]
    }
   ],
   "source": [
    "作業2\n",
    "Q1.你選的這組資料為何重要?\n",
    "A1.我選擇的資料是NBA球員Luke Doncic在新秀年即打出明星級的表現，讓沉淪已久的小牛隊看到一絲未來的希望。Doncic以聰明的打法在新人年創下許多\n",
    "紀錄，在現代以數據分析球員，為球員訂做訓練套餐或作為針對防守研究，此資料有足夠的參考價值。\n",
    "\n",
    "Q2.資料從何而來?\n",
    "A2.資料來自NBA官方，2018-2019賽季的所有球員資料\n",
    "\n",
    "Q3.蒐集而來的資料型態為和?\n",
    "A3.資料包含比賽日期、對陣球隊、主客場等類別資料，也有得分、籃板球數、出手次數等數值資料\n",
    "\n",
    "Q4.這組資料想解決的問題如何評估\n",
    "A4.若以一位對陣對手使用此資料，可以研究其主要得分方式，三分球命中率是否偏高需要重點防守，或是罰球數是否過多，需減少對其的犯規次數等。"
   ]
  },
  {
   "cell_type": "code",
   "execution_count": null,
   "metadata": {
    "collapsed": true
   },
   "outputs": [],
   "source": [
    "作業3\n",
    "Q1.核心問題為何?\n",
    "A1.顧客利用手機APP進行叫車服務，APP會定位顧客位置並搜尋附近是否有可載客的車主，假設以\"確實載到客時間/總服務時間\"作為衡量業績標準，找到提\n",
    "升\"確實載到客時間\"即為本次研究目標。\n",
    "\n",
    "Q2.資料從何而來?\n",
    "A2.車主每次開始載客服務需登入APP，載到客人和完成服務都會有紀錄，這些即為本次研究資料來源。\n",
    "\n",
    "Q3.蒐集而來的資料型態為何?\n",
    "A3.資料應紀錄工作時數、載客時數等數值資料，以及APP定位位置等類別資料。\n",
    "\n",
    "Q4.你要回答的問題，其如何評估?\n",
    "A4.在市區的服務車主一定會較郊區為多，容易造成搶客現象，可研究是否將車主分散至郊區服務，可助於業績的提升。"
   ]
  }
 ],
 "metadata": {
  "kernelspec": {
   "display_name": "Python 3",
   "language": "python",
   "name": "python3"
  },
  "language_info": {
   "codemirror_mode": {
    "name": "ipython",
    "version": 3
   },
   "file_extension": ".py",
   "mimetype": "text/x-python",
   "name": "python",
   "nbconvert_exporter": "python",
   "pygments_lexer": "ipython3",
   "version": "3.7.3"
  }
 },
 "nbformat": 4,
 "nbformat_minor": 2
}
