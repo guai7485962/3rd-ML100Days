{
 "cells": [
  {
   "cell_type": "code",
   "execution_count": null,
   "metadata": {
    "collapsed": true
   },
   "outputs": [],
   "source": [
    "Q1.思考提_請找出一個你認為器學習可以發光發熱的領域並闡述原因?\n",
    "A1.在工業生產上有許多瑕疵品是難以用所謂的長度寬度規格來判斷其良品或不良品的，需要透過檢驗人員的經驗進行篩選。既然機器學習的判斷方式能夠不\n",
    "經由特殊規則，猶如學習檢驗人員的判斷經驗，準確的判斷出產品瑕疵，這將加速檢驗的速度，解決人員疲勞的問題，為公司減少不少人力成本。\n"
   ]
  }
 ],
 "metadata": {
  "kernelspec": {
   "display_name": "Python 3",
   "language": "python",
   "name": "python3"
  },
  "language_info": {
   "codemirror_mode": {
    "name": "ipython",
    "version": 3
   },
   "file_extension": ".py",
   "mimetype": "text/x-python",
   "name": "python",
   "nbconvert_exporter": "python",
   "pygments_lexer": "ipython3",
   "version": "3.6.3"
  }
 },
 "nbformat": 4,
 "nbformat_minor": 2
}
