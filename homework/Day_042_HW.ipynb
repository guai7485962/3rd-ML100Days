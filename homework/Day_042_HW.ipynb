{
 "cells": [
  {
   "cell_type": "markdown",
   "metadata": {},
   "source": [
    "## [作業重點]\n",
    "目前你應該已經要很清楚資料集中，資料的型態是什麼樣子囉！包含特徵 (features) 與標籤 (labels)。因此要記得未來不管什麼專案，必須要把資料清理成相同的格式，才能送進模型訓練。\n",
    "今天的作業開始踏入決策樹這個非常重要的模型，請務必確保你理解模型中每個超參數的意思，並試著調整看看，對最終預測結果的影響為何"
   ]
  },
  {
   "cell_type": "markdown",
   "metadata": {},
   "source": [
    "## 作業\n",
    "\n",
    "1. 試著調整 DecisionTreeClassifier(...) 中的參數，並觀察是否會改變結果？\n",
    "2. 改用其他資料集 (boston, wine)，並與回歸模型的結果進行比較"
   ]
  },
  {
   "cell_type": "code",
   "execution_count": 1,
   "metadata": {},
   "outputs": [],
   "source": [
    "from sklearn import datasets, metrics, linear_model\n",
    "from sklearn.tree import DecisionTreeClassifier, DecisionTreeRegressor\n",
    "from sklearn.model_selection import train_test_split"
   ]
  },
  {
   "cell_type": "code",
   "execution_count": 2,
   "metadata": {},
   "outputs": [
    {
     "name": "stdout",
     "output_type": "stream",
     "text": [
      "MSE of DecisionTreeRegressor():  25.606960784313724\n"
     ]
    }
   ],
   "source": [
    "# =============================================================================\n",
    "# boston資料，使用DecisionTreeRegressor(默認參數)\n",
    "# =============================================================================\n",
    "# 讀取資料\n",
    "boston = datasets.load_boston() # 此資料為迴歸問題\n",
    "\n",
    "# 切分資料\n",
    "x_train, x_test, y_train, y_test = train_test_split(boston.data, boston.target, test_size=0.2, random_state=4)\n",
    "\n",
    "# 建立模型\n",
    "dtr = DecisionTreeRegressor()\n",
    "\n",
    "# 訓練模型\n",
    "dtr.fit(x_train, y_train)\n",
    "\n",
    "# 預測測試集\n",
    "y_pred = dtr.predict(x_test)\n",
    "\n",
    "# 檢測結果\n",
    "mse = metrics.mean_squared_error(y_test, y_pred)\n",
    "print('MSE of DecisionTreeRegressor(): ', mse)"
   ]
  },
  {
   "cell_type": "code",
   "execution_count": 3,
   "metadata": {},
   "outputs": [
    {
     "name": "stdout",
     "output_type": "stream",
     "text": [
      "MSE of DecisionTreeRegressor(max_depth=3,min_samples_leaf=5):  28.914044213945594\n"
     ]
    }
   ],
   "source": [
    "# =============================================================================\n",
    "# boston資料， 使用DecisionTreeRegressor(調整參數)\n",
    "# =============================================================================\n",
    "# 建立模型\n",
    "dtr = DecisionTreeRegressor(max_depth=3,min_samples_leaf=5)\n",
    "\n",
    "# 訓練模型\n",
    "dtr.fit(x_train, y_train)\n",
    "\n",
    "# 預測測試集\n",
    "y_pred = dtr.predict(x_test)\n",
    "\n",
    "# 檢測結果\n",
    "mse = metrics.mean_squared_error(y_test, y_pred)\n",
    "print('MSE of DecisionTreeRegressor(max_depth=3,min_samples_leaf=5): ', mse)"
   ]
  },
  {
   "cell_type": "code",
   "execution_count": 4,
   "metadata": {},
   "outputs": [
    {
     "name": "stdout",
     "output_type": "stream",
     "text": [
      "MSE of Regression:  25.41958712682191\n"
     ]
    }
   ],
   "source": [
    "# =============================================================================\n",
    "# boston資料，使用LinearRegression\n",
    "# =============================================================================\n",
    "# 建立模型\n",
    "regr = linear_model.LinearRegression()\n",
    "\n",
    "# 訓練模型\n",
    "regr.fit(x_train, y_train)\n",
    "\n",
    "# 預測測試集\n",
    "y_pred = regr.predict(x_test)\n",
    "\n",
    "# 檢測結果\n",
    "mse =metrics.mean_squared_error(y_test, y_pred)\n",
    "print('MSE of Regression: ', mse)"
   ]
  },
  {
   "cell_type": "code",
   "execution_count": 5,
   "metadata": {},
   "outputs": [
    {
     "name": "stdout",
     "output_type": "stream",
     "text": [
      "Accuracy of DecisionTreeClassifier():  0.9166666666666666\n"
     ]
    }
   ],
   "source": [
    "# =============================================================================\n",
    "# wine資料，使用DecisionTreeClassifier(默認參數)\n",
    "# =============================================================================\n",
    "# 讀取資料\n",
    "wine = datasets.load_wine()\n",
    "\n",
    "# 切分資料\n",
    "x_train, x_test, y_train, y_test = train_test_split(wine.data, wine.target, test_size=0.2, random_state=4)\n",
    "\n",
    "# 建立模型\n",
    "clf = DecisionTreeClassifier()\n",
    "\n",
    "# 訓練模型\n",
    "clf.fit(x_train, y_train)\n",
    "\n",
    "# 預測測試集\n",
    "y_pred = clf.predict(x_test)\n",
    "\n",
    "# 檢測結果\n",
    "acc = metrics.accuracy_score(y_test, y_pred)\n",
    "print('Accuracy of DecisionTreeClassifier(): ', acc)"
   ]
  },
  {
   "cell_type": "code",
   "execution_count": 6,
   "metadata": {},
   "outputs": [
    {
     "name": "stdout",
     "output_type": "stream",
     "text": [
      "Accuracy of DecisionTreeClassifier(max_depth=3, min_samples_leaf=5):  0.8888888888888888\n"
     ]
    }
   ],
   "source": [
    "# =============================================================================\n",
    "# wine資料，使用DecisionTreeClassifier(調整參數)\n",
    "# =============================================================================\n",
    "# 建立模型\n",
    "clf = DecisionTreeClassifier(max_depth=3, min_samples_leaf=5)\n",
    "\n",
    "# 訓練模型\n",
    "clf.fit(x_train, y_train)\n",
    "\n",
    "# 預測測試集\n",
    "y_pred = clf.predict(x_test)\n",
    "\n",
    "# 檢測結果\n",
    "acc = metrics.accuracy_score(y_test, y_pred)\n",
    "print('Accuracy of DecisionTreeClassifier(max_depth=3, min_samples_leaf=5): ', acc)"
   ]
  },
  {
   "cell_type": "code",
   "execution_count": 7,
   "metadata": {},
   "outputs": [
    {
     "name": "stdout",
     "output_type": "stream",
     "text": [
      "Accuracy of LogisticRegression: 0.9722222222222222\n"
     ]
    },
    {
     "name": "stderr",
     "output_type": "stream",
     "text": [
      "C:\\Users\\guai7\\Anaconda3\\lib\\site-packages\\sklearn\\linear_model\\logistic.py:432: FutureWarning: Default solver will be changed to 'lbfgs' in 0.22. Specify a solver to silence this warning.\n",
      "  FutureWarning)\n",
      "C:\\Users\\guai7\\Anaconda3\\lib\\site-packages\\sklearn\\linear_model\\logistic.py:469: FutureWarning: Default multi_class will be changed to 'auto' in 0.22. Specify the multi_class option to silence this warning.\n",
      "  \"this warning.\", FutureWarning)\n"
     ]
    }
   ],
   "source": [
    "# =============================================================================\n",
    "# \n",
    "# =============================================================================\n",
    "# 建立模型\n",
    "logreg = linear_model.LogisticRegression()\n",
    "\n",
    "# 訓練模型\n",
    "logreg.fit(x_train, y_train)\n",
    "\n",
    "# 預測測試集\n",
    "y_pred = logreg.predict(x_test)\n",
    "\n",
    "# 檢測結果\n",
    "acc = metrics.accuracy_score(y_test, y_pred)\n",
    "print('Accuracy of LogisticRegression:', acc)"
   ]
  }
 ],
 "metadata": {
  "kernelspec": {
   "display_name": "Python 3",
   "language": "python",
   "name": "python3"
  },
  "language_info": {
   "codemirror_mode": {
    "name": "ipython",
    "version": 3
   },
   "file_extension": ".py",
   "mimetype": "text/x-python",
   "name": "python",
   "nbconvert_exporter": "python",
   "pygments_lexer": "ipython3",
   "version": "3.7.3"
  }
 },
 "nbformat": 4,
 "nbformat_minor": 2
}
