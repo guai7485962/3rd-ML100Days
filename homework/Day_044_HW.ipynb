{
 "cells": [
  {
   "cell_type": "markdown",
   "metadata": {},
   "source": [
    "## [作業重點]\n",
    "確保你了解隨機森林模型中每個超參數的意義，並觀察調整超參數對結果的影響"
   ]
  },
  {
   "cell_type": "markdown",
   "metadata": {},
   "source": [
    "## 作業\n",
    "\n",
    "1. 試著調整 RandomForestClassifier(...) 中的參數，並觀察是否會改變結果？\n",
    "2. 改用其他資料集 (boston, wine)，並與回歸模型與決策樹的結果進行比較"
   ]
  },
  {
   "cell_type": "code",
   "execution_count": 1,
   "metadata": {},
   "outputs": [],
   "source": [
    "from sklearn import datasets, metrics\n",
    "from sklearn.ensemble import RandomForestClassifier, RandomForestRegressor\n",
    "from sklearn.model_selection import train_test_split"
   ]
  },
  {
   "cell_type": "code",
   "execution_count": 2,
   "metadata": {},
   "outputs": [
    {
     "name": "stdout",
     "output_type": "stream",
     "text": [
      "MSE of RandomForestRegressor(n_estimators=20, max_depth=4): 22.02719587770832\n",
      "['CRIM' 'ZN' 'INDUS' 'CHAS' 'NOX' 'RM' 'AGE' 'DIS' 'RAD' 'TAX' 'PTRATIO'\n",
      " 'B' 'LSTAT']\n",
      "Feature importance: [2.87583426e-02 4.09257113e-04 1.43625804e-03 1.99619943e-03\n",
      " 1.46145701e-02 5.74477040e-01 4.01253801e-03 5.80112004e-02\n",
      " 3.75938381e-03 5.95842971e-03 1.67162772e-02 2.97482484e-03\n",
      " 2.86875678e-01]\n"
     ]
    }
   ],
   "source": [
    "# =============================================================================\n",
    "# boston資料，為迴歸問題，使用RandomForestRegressor(n_estimators=20, max_depth=4)\n",
    "# =============================================================================\n",
    "# 讀取 boston資料\n",
    "boston = datasets.load_boston()\n",
    "\n",
    "# 切分資料\n",
    "x_train, x_test, y_train, y_test = train_test_split(boston.data, boston.target, test_size=0.2, random_state=4)\n",
    "\n",
    "# 建立模型\n",
    "rgr = RandomForestRegressor(n_estimators=20, max_depth=4)\n",
    "\n",
    "# 訓練模型\n",
    "rgr.fit(x_train, y_train)\n",
    "\n",
    "# 預測測試集\n",
    "y_pred = rgr.predict(x_test)\n",
    "\n",
    "mse = metrics.mean_squared_error(y_test, y_pred)\n",
    "print('MSE of RandomForestRegressor(n_estimators=20, max_depth=4):', mse)\n",
    "print(boston.feature_names)\n",
    "print('Feature importance:', rgr.feature_importances_)"
   ]
  },
  {
   "cell_type": "code",
   "execution_count": 3,
   "metadata": {},
   "outputs": [
    {
     "name": "stdout",
     "output_type": "stream",
     "text": [
      "MSE of RandomForestRegressor(n_estimators=40, max_depth=4): 20.094999373704596\n",
      "['CRIM' 'ZN' 'INDUS' 'CHAS' 'NOX' 'RM' 'AGE' 'DIS' 'RAD' 'TAX' 'PTRATIO'\n",
      " 'B' 'LSTAT']\n",
      "Feature importance: [4.39841078e-02 6.46155199e-06 2.85478762e-03 2.74611203e-04\n",
      " 1.56360802e-02 5.60721434e-01 4.53729996e-03 4.80687359e-02\n",
      " 4.10808667e-03 7.73768424e-03 1.11978235e-02 3.11763792e-03\n",
      " 2.97755250e-01]\n"
     ]
    }
   ],
   "source": [
    "# =============================================================================\n",
    "# boston資料，為迴歸問題，使用RandomForestRegressor(n_estimators=40, max_depth=4)\n",
    "# =============================================================================\n",
    "# 建立模型\n",
    "rgr = RandomForestRegressor(n_estimators=40, max_depth=4)\n",
    "\n",
    "# 訓練模型\n",
    "rgr.fit(x_train, y_train)\n",
    "\n",
    "# 預測測試集\n",
    "y_pred = rgr.predict(x_test)\n",
    "\n",
    "mse = metrics.mean_squared_error(y_test, y_pred)\n",
    "print('MSE of RandomForestRegressor(n_estimators=40, max_depth=4):', mse)\n",
    "print(boston.feature_names)\n",
    "print('Feature importance:', rgr.feature_importances_)"
   ]
  },
  {
   "cell_type": "code",
   "execution_count": 4,
   "metadata": {},
   "outputs": [
    {
     "name": "stdout",
     "output_type": "stream",
     "text": [
      "Accuracy of RandomForestClassifier(n_estimators=20, max_depth=4): 1.0\n",
      "['alcohol', 'malic_acid', 'ash', 'alcalinity_of_ash', 'magnesium', 'total_phenols', 'flavanoids', 'nonflavanoid_phenols', 'proanthocyanins', 'color_intensity', 'hue', 'od280/od315_of_diluted_wines', 'proline']\n",
      "Feature importance: [0.14435352 0.02145673 0.01510859 0.02846715 0.01578033 0.01448016\n",
      " 0.11286491 0.01600415 0.01974931 0.1328703  0.06291675 0.14106433\n",
      " 0.27488377]\n"
     ]
    }
   ],
   "source": [
    "# =============================================================================\n",
    "# wine資料，為分類問題，使用RandomForestClassifier(n_estimators=20, max_depth=4)\n",
    "# =============================================================================\n",
    "# 讀取資料\n",
    "wine = datasets.load_wine()\n",
    "\n",
    "#切分資料\n",
    "x_train, x_test, y_train, y_test = train_test_split(wine.data, wine.target, test_size=0.2, random_state=4)\n",
    "\n",
    "# 建立模型\n",
    "clf = RandomForestClassifier(n_estimators=20, max_depth=4)\n",
    "\n",
    "# 訓練模型\n",
    "clf.fit(x_train, y_train)\n",
    "\n",
    "# 預測測試集\n",
    "y_pred = clf.predict(x_test)\n",
    "\n",
    "acc = metrics.accuracy_score(y_test, y_pred)\n",
    "print('Accuracy of RandomForestClassifier(n_estimators=20, max_depth=4):', acc)\n",
    "print(wine.feature_names)\n",
    "print('Feature importance:', clf.feature_importances_)"
   ]
  },
  {
   "cell_type": "code",
   "execution_count": 5,
   "metadata": {},
   "outputs": [
    {
     "name": "stdout",
     "output_type": "stream",
     "text": [
      "Accuracy of RandomForestClassifier(n_estimators=40, max_depth=4): 1.0\n",
      "['alcohol', 'malic_acid', 'ash', 'alcalinity_of_ash', 'magnesium', 'total_phenols', 'flavanoids', 'nonflavanoid_phenols', 'proanthocyanins', 'color_intensity', 'hue', 'od280/od315_of_diluted_wines', 'proline']\n",
      "Feature importance: [0.13273352 0.01798671 0.02229471 0.03794458 0.01778143 0.04040778\n",
      " 0.16060548 0.00429761 0.03282099 0.18449913 0.06503431 0.11256021\n",
      " 0.17103355]\n"
     ]
    }
   ],
   "source": [
    "# =============================================================================\n",
    "# wine資料，為分類問題，使用RandomForestClassifier(n_estimators=40, max_depth=4)\n",
    "# =============================================================================\n",
    "# 建立模型\n",
    "clf = RandomForestClassifier(n_estimators=40, max_depth=4)\n",
    "\n",
    "# 訓練模型\n",
    "clf.fit(x_train, y_train)\n",
    "\n",
    "# 預測測試集\n",
    "y_pred = clf.predict(x_test)\n",
    "\n",
    "acc = metrics.accuracy_score(y_test, y_pred)\n",
    "print('Accuracy of RandomForestClassifier(n_estimators=40, max_depth=4):', acc)\n",
    "print(wine.feature_names)\n",
    "print('Feature importance:', clf.feature_importances_)"
   ]
  }
 ],
 "metadata": {
  "kernelspec": {
   "display_name": "Python 3",
   "language": "python",
   "name": "python3"
  },
  "language_info": {
   "codemirror_mode": {
    "name": "ipython",
    "version": 3
   },
   "file_extension": ".py",
   "mimetype": "text/x-python",
   "name": "python",
   "nbconvert_exporter": "python",
   "pygments_lexer": "ipython3",
   "version": "3.7.3"
  }
 },
 "nbformat": 4,
 "nbformat_minor": 2
}
